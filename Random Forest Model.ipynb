{
 "cells": [
  {
   "cell_type": "markdown",
   "metadata": {},
   "source": [
    "### Random Forest Model\n",
    "\n",
    "We now try a Random Forest Classifier to improve the accuracy of our estimates. We use a limited set of hyper parameters with a GridSearchCV on a sample of the data, and use the entire available dataset after selecting the most promising of these parameters. We also only use Gini as a measure of impurity to make computation easier.\n",
    "\n",
    "Ideally, this will limit any overfitting in the model."
   ]
  },
  {
   "cell_type": "code",
   "execution_count": 2,
   "metadata": {},
   "outputs": [],
   "source": [
    "import numpy as np\n",
    "import pandas as pd\n",
    "import matplotlib.pyplot as plt\n",
    "from sklearn.ensemble import RandomForestClassifier\n",
    "from sklearn.model_selection import KFold, cross_val_score, train_test_split, GridSearchCV\n",
    "from sklearn.metrics import balanced_accuracy_score, accuracy_score, precision_score, recall_score, confusion_matrix, f1_score, plot_precision_recall_curve"
   ]
  },
  {
   "cell_type": "code",
   "execution_count": 17,
   "metadata": {},
   "outputs": [],
   "source": [
    "df = pd.read_csv('clean.csv')"
   ]
  },
  {
   "cell_type": "code",
   "execution_count": 18,
   "metadata": {},
   "outputs": [],
   "source": [
    "weight = sum(df['target'] == 0) / df.shape[0]\n",
    "df['sample_weight'] = df['target'].apply(lambda x: weight if x == 1 else 1 - weight)\n",
    "sample = df.sample(n=350000, random_state=0, weights='sample_weight', axis=0)"
   ]
  },
  {
   "cell_type": "code",
   "execution_count": 19,
   "metadata": {},
   "outputs": [],
   "source": [
    "x_train, x_test, y_train, y_test = train_test_split(sample.drop(['target', 'sample_weight'], axis=1), sample['target'], test_size = .2, random_state=0)"
   ]
  },
  {
   "cell_type": "code",
   "execution_count": 20,
   "metadata": {},
   "outputs": [
    {
     "name": "stdout",
     "output_type": "stream",
     "text": [
      "Fitting 10 folds for each of 4 candidates, totalling 40 fits\n"
     ]
    },
    {
     "name": "stderr",
     "output_type": "stream",
     "text": [
      "[Parallel(n_jobs=-1)]: Using backend LokyBackend with 8 concurrent workers.\n",
      "[Parallel(n_jobs=-1)]: Done  25 tasks      | elapsed: 10.1min\n",
      "[Parallel(n_jobs=-1)]: Done  40 out of  40 | elapsed: 24.8min finished\n"
     ]
    },
    {
     "data": {
      "text/html": [
       "<div>\n",
       "<style scoped>\n",
       "    .dataframe tbody tr th:only-of-type {\n",
       "        vertical-align: middle;\n",
       "    }\n",
       "\n",
       "    .dataframe tbody tr th {\n",
       "        vertical-align: top;\n",
       "    }\n",
       "\n",
       "    .dataframe thead th {\n",
       "        text-align: right;\n",
       "    }\n",
       "</style>\n",
       "<table border=\"1\" class=\"dataframe\">\n",
       "  <thead>\n",
       "    <tr style=\"text-align: right;\">\n",
       "      <th></th>\n",
       "      <th>params</th>\n",
       "      <th>mean_test_balanced_accuracy</th>\n",
       "      <th>mean_test_recall</th>\n",
       "      <th>mean_test_precision</th>\n",
       "    </tr>\n",
       "  </thead>\n",
       "  <tbody>\n",
       "    <tr>\n",
       "      <th>0</th>\n",
       "      <td>{'criterion': 'gini', 'max_depth': 3, 'n_estim...</td>\n",
       "      <td>0.557580</td>\n",
       "      <td>0.928868</td>\n",
       "      <td>0.593762</td>\n",
       "    </tr>\n",
       "    <tr>\n",
       "      <th>1</th>\n",
       "      <td>{'criterion': 'gini', 'max_depth': 3, 'n_estim...</td>\n",
       "      <td>0.559082</td>\n",
       "      <td>0.922074</td>\n",
       "      <td>0.594912</td>\n",
       "    </tr>\n",
       "    <tr>\n",
       "      <th>2</th>\n",
       "      <td>{'criterion': 'gini', 'max_depth': 5, 'n_estim...</td>\n",
       "      <td>0.572088</td>\n",
       "      <td>0.883535</td>\n",
       "      <td>0.604756</td>\n",
       "    </tr>\n",
       "    <tr>\n",
       "      <th>3</th>\n",
       "      <td>{'criterion': 'gini', 'max_depth': 5, 'n_estim...</td>\n",
       "      <td>0.573061</td>\n",
       "      <td>0.880602</td>\n",
       "      <td>0.605543</td>\n",
       "    </tr>\n",
       "  </tbody>\n",
       "</table>\n",
       "</div>"
      ],
      "text/plain": [
       "                                              params  \\\n",
       "0  {'criterion': 'gini', 'max_depth': 3, 'n_estim...   \n",
       "1  {'criterion': 'gini', 'max_depth': 3, 'n_estim...   \n",
       "2  {'criterion': 'gini', 'max_depth': 5, 'n_estim...   \n",
       "3  {'criterion': 'gini', 'max_depth': 5, 'n_estim...   \n",
       "\n",
       "   mean_test_balanced_accuracy  mean_test_recall  mean_test_precision  \n",
       "0                     0.557580          0.928868             0.593762  \n",
       "1                     0.559082          0.922074             0.594912  \n",
       "2                     0.572088          0.883535             0.604756  \n",
       "3                     0.573061          0.880602             0.605543  "
      ]
     },
     "execution_count": 20,
     "metadata": {},
     "output_type": "execute_result"
    }
   ],
   "source": [
    "parameters_sample = {'random_state':[0],\n",
    "              'n_estimators':[100, 1000],\n",
    "              'max_depth':[3, 5],\n",
    "              'criterion':['gini']}\n",
    "\n",
    "grid_sample = GridSearchCV(RandomForestClassifier(),\n",
    "                      parameters_sample,\n",
    "                      scoring = ['balanced_accuracy', 'recall', 'precision'],\n",
    "                      cv=10, refit='balanced_accuracy', n_jobs = -1,verbose=2)\n",
    "\n",
    "y_train_sample_array = np.array(y_train).reshape(-1)\n",
    "\n",
    "grid_sample.fit(x_train, y_train_sample_array)\n",
    "\n",
    "results_sample = pd.DataFrame.from_dict(grid_sample.cv_results_)\n",
    "results_sample[['params','mean_test_balanced_accuracy','mean_test_recall','mean_test_precision']]"
   ]
  },
  {
   "cell_type": "code",
   "execution_count": 24,
   "metadata": {},
   "outputs": [
    {
     "data": {
      "image/png": "[encoded data removed]",
      "text/plain": [
       "<Figure size 432x288 with 1 Axes>"
      ]
     },
     "metadata": {
      "needs_background": "light"
     },
     "output_type": "display_data"
    }
   ],
   "source": [
    "plot_precision_recall_curve(grid_sample.best_estimator_, x_test, y_test)\n",
    "plt.title('Precision-Recall Curve for Random Forest')\n",
    "plt.savefig('roc_rf.png')\n",
    "plt.show()"
   ]
  },
  {
   "cell_type": "code",
   "execution_count": 26,
   "metadata": {},
   "outputs": [],
   "source": [
    "tn, fp, fn, tp = confusion_matrix(y_test, grid_sample.best_estimator_.predict(x_test)).ravel()"
   ]
  },
  {
   "cell_type": "code",
   "execution_count": 27,
   "metadata": {},
   "outputs": [
    {
     "name": "stdout",
     "output_type": "stream",
     "text": [
      "tn: 8203 fp: 22305 fn: 4664 tp: 34828\n"
     ]
    }
   ],
   "source": [
    "print('tn:', tn, 'fp:',fp,'fn:',fn,'tp:',tp)"
   ]
  },
  {
   "cell_type": "code",
   "execution_count": 32,
   "metadata": {},
   "outputs": [
    {
     "data": {
      "text/html": [
       "<div>\n",
       "<style scoped>\n",
       "    .dataframe tbody tr th:only-of-type {\n",
       "        vertical-align: middle;\n",
       "    }\n",
       "\n",
       "    .dataframe tbody tr th {\n",
       "        vertical-align: top;\n",
       "    }\n",
       "\n",
       "    .dataframe thead th {\n",
       "        text-align: right;\n",
       "    }\n",
       "</style>\n",
       "<table border=\"1\" class=\"dataframe\">\n",
       "  <thead>\n",
       "    <tr style=\"text-align: right;\">\n",
       "      <th></th>\n",
       "      <th>threshold</th>\n",
       "      <th>precision</th>\n",
       "      <th>recall</th>\n",
       "    </tr>\n",
       "  </thead>\n",
       "  <tbody>\n",
       "    <tr>\n",
       "      <th>0</th>\n",
       "      <td>0.01</td>\n",
       "      <td>0.780000</td>\n",
       "      <td>0.013826</td>\n",
       "    </tr>\n",
       "    <tr>\n",
       "      <th>1</th>\n",
       "      <td>0.05</td>\n",
       "      <td>0.735143</td>\n",
       "      <td>0.065152</td>\n",
       "    </tr>\n",
       "    <tr>\n",
       "      <th>2</th>\n",
       "      <td>0.10</td>\n",
       "      <td>0.712571</td>\n",
       "      <td>0.126304</td>\n",
       "    </tr>\n",
       "    <tr>\n",
       "      <th>3</th>\n",
       "      <td>0.20</td>\n",
       "      <td>0.696214</td>\n",
       "      <td>0.246809</td>\n",
       "    </tr>\n",
       "    <tr>\n",
       "      <th>4</th>\n",
       "      <td>0.50</td>\n",
       "      <td>0.649714</td>\n",
       "      <td>0.575813</td>\n",
       "    </tr>\n",
       "    <tr>\n",
       "      <th>5</th>\n",
       "      <td>1.00</td>\n",
       "      <td>0.564171</td>\n",
       "      <td>1.000000</td>\n",
       "    </tr>\n",
       "  </tbody>\n",
       "</table>\n",
       "</div>"
      ],
      "text/plain": [
       "   threshold  precision    recall\n",
       "0       0.01   0.780000  0.013826\n",
       "1       0.05   0.735143  0.065152\n",
       "2       0.10   0.712571  0.126304\n",
       "3       0.20   0.696214  0.246809\n",
       "4       0.50   0.649714  0.575813\n",
       "5       1.00   0.564171  1.000000"
      ]
     },
     "execution_count": 32,
     "metadata": {},
     "output_type": "execute_result"
    }
   ],
   "source": [
    "probabilities = pd.DataFrame(grid_sample.best_estimator_.predict_proba(x_test)[:,1])\n",
    "probabilities.columns = ['scored']\n",
    "probabilities['class'] = 0\n",
    "thresholds = [.01,.05,.1,.2,.5,1]\n",
    "scores = []\n",
    "\n",
    "#mark\n",
    "for i in thresholds:\n",
    "    max_val = probabilities.shape[0]\n",
    "    to_return = int((max_val * i))\n",
    "    index_nums = probabilities.nlargest(to_return, columns = 'scored').index\n",
    "    for j in index_nums:\n",
    "        probabilities.iloc[j,1] = 1\n",
    "    \n",
    "    p = precision_score(y_test, probabilities['class'])\n",
    "    r = recall_score(y_test, probabilities['class'])\n",
    "    scores.append([i,p,r])\n",
    "    \n",
    "fixed_values = pd.DataFrame(scores)\n",
    "fixed_values.columns = ['threshold', 'precision','recall']\n",
    "fixed_values.head(6)\n",
    "\n"
   ]
  },
  {
   "cell_type": "code",
   "execution_count": 34,
   "metadata": {},
   "outputs": [
    {
     "data": {
      "text/plain": [
       "0.5753902126828474"
      ]
     },
     "execution_count": 34,
     "metadata": {},
     "output_type": "execute_result"
    }
   ],
   "source": [
    "balanced_accuracy_score(y_test, grid_sample.best_estimator_.predict(x_test))"
   ]
  },
  {
   "cell_type": "code",
   "execution_count": null,
   "metadata": {},
   "outputs": [],
   "source": []
  }
 ],
 "metadata": {
  "kernelspec": {
   "display_name": "Python 3",
   "language": "python",
   "name": "python3"
  },
  "language_info": {
   "codemirror_mode": {
    "name": "ipython",
    "version": 3
   },
   "file_extension": ".py",
   "mimetype": "text/x-python",
   "name": "python",
   "nbconvert_exporter": "python",
   "pygments_lexer": "ipython3",
   "version": "3.8.3"
  }
 },
 "nbformat": 4,
 "nbformat_minor": 4
}
