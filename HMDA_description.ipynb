{
 "cells": [
  {
   "cell_type": "code",
   "execution_count": 2,
   "metadata": {},
   "outputs": [
    {
     "name": "stderr",
     "output_type": "stream",
     "text": [
      "C:\\Users\\Jacob\\miniconda3\\envs\\capp30245\\lib\\site-packages\\IPython\\core\\interactiveshell.py:3062: DtypeWarning: Columns (34,36,38,44) have mixed types.Specify dtype option on import or set low_memory=False.\n",
      "  has_raised = await self.run_ast_nodes(code_ast.body, cell_name,\n"
     ]
    }
   ],
   "source": [
    "import pandas as pd"
   ]
  },
  {
   "cell_type": "code",
   "execution_count": 15,
   "metadata": {},
   "outputs": [
    {
     "name": "stderr",
     "output_type": "stream",
     "text": [
      "C:\\Users\\Jacob\\miniconda3\\envs\\capp30245\\lib\\site-packages\\IPython\\core\\interactiveshell.py:3062: DtypeWarning: Columns (34,36,38,44,46,48) have mixed types.Specify dtype option on import or set low_memory=False.\n",
      "  has_raised = await self.run_ast_nodes(code_ast.body, cell_name,\n"
     ]
    }
   ],
   "source": [
    "ad = pd.read_csv('hmda_2014_mi_all-records_labels.csv')"
   ]
  },
  {
   "cell_type": "code",
   "execution_count": 16,
   "metadata": {},
   "outputs": [
    {
     "data": {
      "text/html": [
       "<div>\n",
       "<style scoped>\n",
       "    .dataframe tbody tr th:only-of-type {\n",
       "        vertical-align: middle;\n",
       "    }\n",
       "\n",
       "    .dataframe tbody tr th {\n",
       "        vertical-align: top;\n",
       "    }\n",
       "\n",
       "    .dataframe thead th {\n",
       "        text-align: right;\n",
       "    }\n",
       "</style>\n",
       "<table border=\"1\" class=\"dataframe\">\n",
       "  <thead>\n",
       "    <tr style=\"text-align: right;\">\n",
       "      <th></th>\n",
       "      <th>as_of_year</th>\n",
       "      <th>respondent_id</th>\n",
       "      <th>agency_name</th>\n",
       "      <th>agency_abbr</th>\n",
       "      <th>agency_code</th>\n",
       "      <th>loan_type_name</th>\n",
       "      <th>loan_type</th>\n",
       "      <th>property_type_name</th>\n",
       "      <th>property_type</th>\n",
       "      <th>loan_purpose_name</th>\n",
       "      <th>...</th>\n",
       "      <th>edit_status_name</th>\n",
       "      <th>edit_status</th>\n",
       "      <th>sequence_number</th>\n",
       "      <th>population</th>\n",
       "      <th>minority_population</th>\n",
       "      <th>hud_median_family_income</th>\n",
       "      <th>tract_to_msamd_income</th>\n",
       "      <th>number_of_owner_occupied_units</th>\n",
       "      <th>number_of_1_to_4_family_units</th>\n",
       "      <th>application_date_indicator</th>\n",
       "    </tr>\n",
       "  </thead>\n",
       "  <tbody>\n",
       "    <tr>\n",
       "      <th>0</th>\n",
       "      <td>2014</td>\n",
       "      <td>41-1795868</td>\n",
       "      <td>Department of Housing and Urban Development</td>\n",
       "      <td>HUD</td>\n",
       "      <td>7</td>\n",
       "      <td>Conventional</td>\n",
       "      <td>1</td>\n",
       "      <td>One-to-four family dwelling (other than manufa...</td>\n",
       "      <td>1</td>\n",
       "      <td>Home purchase</td>\n",
       "      <td>...</td>\n",
       "      <td>NaN</td>\n",
       "      <td>NaN</td>\n",
       "      <td>17461</td>\n",
       "      <td>3270.0</td>\n",
       "      <td>4.500000</td>\n",
       "      <td>53900.0</td>\n",
       "      <td>108.180000</td>\n",
       "      <td>1137.0</td>\n",
       "      <td>2162.0</td>\n",
       "      <td>2</td>\n",
       "    </tr>\n",
       "    <tr>\n",
       "      <th>1</th>\n",
       "      <td>2014</td>\n",
       "      <td>41-1795868</td>\n",
       "      <td>Department of Housing and Urban Development</td>\n",
       "      <td>HUD</td>\n",
       "      <td>7</td>\n",
       "      <td>Conventional</td>\n",
       "      <td>1</td>\n",
       "      <td>One-to-four family dwelling (other than manufa...</td>\n",
       "      <td>1</td>\n",
       "      <td>Refinancing</td>\n",
       "      <td>...</td>\n",
       "      <td>NaN</td>\n",
       "      <td>NaN</td>\n",
       "      <td>100847</td>\n",
       "      <td>7897.0</td>\n",
       "      <td>7.310000</td>\n",
       "      <td>64600.0</td>\n",
       "      <td>131.729996</td>\n",
       "      <td>2267.0</td>\n",
       "      <td>2746.0</td>\n",
       "      <td>0</td>\n",
       "    </tr>\n",
       "    <tr>\n",
       "      <th>2</th>\n",
       "      <td>2014</td>\n",
       "      <td>38-2434249</td>\n",
       "      <td>Department of Housing and Urban Development</td>\n",
       "      <td>HUD</td>\n",
       "      <td>7</td>\n",
       "      <td>FHA-insured</td>\n",
       "      <td>2</td>\n",
       "      <td>One-to-four family dwelling (other than manufa...</td>\n",
       "      <td>1</td>\n",
       "      <td>Home purchase</td>\n",
       "      <td>...</td>\n",
       "      <td>NaN</td>\n",
       "      <td>NaN</td>\n",
       "      <td>349</td>\n",
       "      <td>5262.0</td>\n",
       "      <td>50.299999</td>\n",
       "      <td>64200.0</td>\n",
       "      <td>70.809998</td>\n",
       "      <td>1230.0</td>\n",
       "      <td>1980.0</td>\n",
       "      <td>0</td>\n",
       "    </tr>\n",
       "    <tr>\n",
       "      <th>3</th>\n",
       "      <td>2014</td>\n",
       "      <td>41-1795868</td>\n",
       "      <td>Department of Housing and Urban Development</td>\n",
       "      <td>HUD</td>\n",
       "      <td>7</td>\n",
       "      <td>Conventional</td>\n",
       "      <td>1</td>\n",
       "      <td>One-to-four family dwelling (other than manufa...</td>\n",
       "      <td>1</td>\n",
       "      <td>Refinancing</td>\n",
       "      <td>...</td>\n",
       "      <td>NaN</td>\n",
       "      <td>NaN</td>\n",
       "      <td>14333</td>\n",
       "      <td>2223.0</td>\n",
       "      <td>10.840000</td>\n",
       "      <td>53900.0</td>\n",
       "      <td>103.970001</td>\n",
       "      <td>856.0</td>\n",
       "      <td>1889.0</td>\n",
       "      <td>2</td>\n",
       "    </tr>\n",
       "    <tr>\n",
       "      <th>4</th>\n",
       "      <td>2014</td>\n",
       "      <td>7687600009</td>\n",
       "      <td>Department of Housing and Urban Development</td>\n",
       "      <td>HUD</td>\n",
       "      <td>7</td>\n",
       "      <td>Conventional</td>\n",
       "      <td>1</td>\n",
       "      <td>One-to-four family dwelling (other than manufa...</td>\n",
       "      <td>1</td>\n",
       "      <td>Refinancing</td>\n",
       "      <td>...</td>\n",
       "      <td>NaN</td>\n",
       "      <td>NaN</td>\n",
       "      <td>1151</td>\n",
       "      <td>5734.0</td>\n",
       "      <td>30.549999</td>\n",
       "      <td>73800.0</td>\n",
       "      <td>98.580002</td>\n",
       "      <td>1489.0</td>\n",
       "      <td>1688.0</td>\n",
       "      <td>0</td>\n",
       "    </tr>\n",
       "  </tbody>\n",
       "</table>\n",
       "<p>5 rows × 78 columns</p>\n",
       "</div>"
      ],
      "text/plain": [
       "   as_of_year respondent_id                                  agency_name  \\\n",
       "0        2014    41-1795868  Department of Housing and Urban Development   \n",
       "1        2014    41-1795868  Department of Housing and Urban Development   \n",
       "2        2014    38-2434249  Department of Housing and Urban Development   \n",
       "3        2014    41-1795868  Department of Housing and Urban Development   \n",
       "4        2014    7687600009  Department of Housing and Urban Development   \n",
       "\n",
       "  agency_abbr  agency_code loan_type_name  loan_type  \\\n",
       "0         HUD            7   Conventional          1   \n",
       "1         HUD            7   Conventional          1   \n",
       "2         HUD            7    FHA-insured          2   \n",
       "3         HUD            7   Conventional          1   \n",
       "4         HUD            7   Conventional          1   \n",
       "\n",
       "                                  property_type_name  property_type  \\\n",
       "0  One-to-four family dwelling (other than manufa...              1   \n",
       "1  One-to-four family dwelling (other than manufa...              1   \n",
       "2  One-to-four family dwelling (other than manufa...              1   \n",
       "3  One-to-four family dwelling (other than manufa...              1   \n",
       "4  One-to-four family dwelling (other than manufa...              1   \n",
       "\n",
       "  loan_purpose_name  ...  edit_status_name edit_status  sequence_number  \\\n",
       "0     Home purchase  ...               NaN         NaN            17461   \n",
       "1       Refinancing  ...               NaN         NaN           100847   \n",
       "2     Home purchase  ...               NaN         NaN              349   \n",
       "3       Refinancing  ...               NaN         NaN            14333   \n",
       "4       Refinancing  ...               NaN         NaN             1151   \n",
       "\n",
       "   population minority_population  hud_median_family_income  \\\n",
       "0      3270.0            4.500000                   53900.0   \n",
       "1      7897.0            7.310000                   64600.0   \n",
       "2      5262.0           50.299999                   64200.0   \n",
       "3      2223.0           10.840000                   53900.0   \n",
       "4      5734.0           30.549999                   73800.0   \n",
       "\n",
       "  tract_to_msamd_income  number_of_owner_occupied_units  \\\n",
       "0            108.180000                          1137.0   \n",
       "1            131.729996                          2267.0   \n",
       "2             70.809998                          1230.0   \n",
       "3            103.970001                           856.0   \n",
       "4             98.580002                          1489.0   \n",
       "\n",
       "  number_of_1_to_4_family_units  application_date_indicator  \n",
       "0                        2162.0                           2  \n",
       "1                        2746.0                           0  \n",
       "2                        1980.0                           0  \n",
       "3                        1889.0                           2  \n",
       "4                        1688.0                           0  \n",
       "\n",
       "[5 rows x 78 columns]"
      ]
     },
     "execution_count": 16,
     "metadata": {},
     "output_type": "execute_result"
    }
   ],
   "source": [
    "ad.head()"
   ]
  },
  {
   "cell_type": "code",
   "execution_count": 22,
   "metadata": {},
   "outputs": [
    {
     "data": {
      "text/plain": [
       "359843"
      ]
     },
     "execution_count": 22,
     "metadata": {},
     "output_type": "execute_result"
    }
   ],
   "source": [
    "ad['denial_reason_name_3'].isna().sum()"
   ]
  },
  {
   "cell_type": "code",
   "execution_count": 25,
   "metadata": {},
   "outputs": [
    {
     "data": {
      "text/plain": [
       "Loan originated                                        54.0\n",
       "Application denied by financial institution            17.0\n",
       "Loan purchased by the institution                      14.0\n",
       "Application withdrawn by applicant                      8.0\n",
       "File closed for incompleteness                          4.0\n",
       "Application approved but not accepted                   3.0\n",
       "Preapproval request denied by financial institution     0.0\n",
       "Preapproval request approved but not accepted           0.0\n",
       "Name: action_taken_name, dtype: float64"
      ]
     },
     "execution_count": 25,
     "metadata": {},
     "output_type": "execute_result"
    }
   ],
   "source": [
    " ad['action_taken_name'].value_counts(normalize=True).round(2) * 100"
   ]
  },
  {
   "cell_type": "code",
   "execution_count": 26,
   "metadata": {},
   "outputs": [
    {
     "data": {
      "text/plain": [
       "Home purchase       47.0\n",
       "Refinancing         45.0\n",
       "Home improvement     8.0\n",
       "Name: loan_purpose_name, dtype: float64"
      ]
     },
     "execution_count": 26,
     "metadata": {},
     "output_type": "execute_result"
    }
   ],
   "source": [
    "ad['loan_purpose_name'].value_counts(normalize=True).round(2) * 100"
   ]
  },
  {
   "cell_type": "code",
   "execution_count": 27,
   "metadata": {},
   "outputs": [
    {
     "data": {
      "text/plain": [
       "Male                                                                                 59.0\n",
       "Female                                                                               25.0\n",
       "Not applicable                                                                       10.0\n",
       "Information not provided by applicant in mail, Internet, or telephone application     6.0\n",
       "Name: applicant_sex_name, dtype: float64"
      ]
     },
     "execution_count": 27,
     "metadata": {},
     "output_type": "execute_result"
    }
   ],
   "source": [
    "ad['applicant_sex_name'].value_counts(normalize=True).round(2) * 100"
   ]
  },
  {
   "cell_type": "code",
   "execution_count": 28,
   "metadata": {},
   "outputs": [
    {
     "data": {
      "text/plain": [
       "Not Hispanic or Latino                                                               79.0\n",
       "Not applicable                                                                       10.0\n",
       "Information not provided by applicant in mail, Internet, or telephone application     9.0\n",
       "Hispanic or Latino                                                                    2.0\n",
       "Name: applicant_ethnicity_name, dtype: float64"
      ]
     },
     "execution_count": 28,
     "metadata": {},
     "output_type": "execute_result"
    }
   ],
   "source": [
    "ad['applicant_ethnicity_name'].value_counts(normalize=True).round(2) * 100"
   ]
  },
  {
   "cell_type": "code",
   "execution_count": 30,
   "metadata": {},
   "outputs": [
    {
     "data": {
      "text/plain": [
       "White                                                                                74.0\n",
       "Not applicable                                                                       10.0\n",
       "Information not provided by applicant in mail, Internet, or telephone application     9.0\n",
       "Black or African American                                                             5.0\n",
       "Asian                                                                                 2.0\n",
       "American Indian or Alaska Native                                                      0.0\n",
       "Native Hawaiian or Other Pacific Islander                                             0.0\n",
       "Name: applicant_race_name_1, dtype: float64"
      ]
     },
     "execution_count": 30,
     "metadata": {},
     "output_type": "execute_result"
    }
   ],
   "source": [
    "ad['applicant_race_name_1'].value_counts(normalize=True).round(2) * 100"
   ]
  },
  {
   "cell_type": "code",
   "execution_count": null,
   "metadata": {},
   "outputs": [],
   "source": []
  }
 ],
 "metadata": {
  "kernelspec": {
   "display_name": "Python 3",
   "language": "python",
   "name": "python3"
  },
  "language_info": {
   "codemirror_mode": {
    "name": "ipython",
    "version": 3
   },
   "file_extension": ".py",
   "mimetype": "text/x-python",
   "name": "python",
   "nbconvert_exporter": "python",
   "pygments_lexer": "ipython3",
   "version": "3.8.2"
  }
 },
 "nbformat": 4,
 "nbformat_minor": 4
}
